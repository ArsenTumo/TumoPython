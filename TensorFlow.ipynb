{
 "cells": [
  {
   "cell_type": "code",
   "execution_count": 5,
   "metadata": {
    "collapsed": false,
    "deletable": true,
    "editable": true
   },
   "outputs": [
    {
     "name": "stdout",
     "output_type": "stream",
     "text": [
      "name: \"output\"\n",
      "op: \"Mul\"\n",
      "input: \"Const\"\n",
      "input: \"Variable/read\"\n",
      "attr {\n",
      "  key: \"T\"\n",
      "  value {\n",
      "    type: DT_FLOAT\n",
      "  }\n",
      "}\n",
      "\n"
     ]
    }
   ],
   "source": [
    "# !git clone https://github.com/alenzamanyan/tensorflow-workshop.git - Cloning into server\n",
    "import tensorflow as tf\n",
    "#===================================================================\n",
    "# LESSON 1 : Completed                                             |\n",
    "#===================================================================\n",
    "#-------------------------------------------------------------------\n",
    "# Ex 1 : HELLO WORLD : Completed\n",
    "#-------------------------------------------------------------------\n",
    "# msg = tf.constant('Hello TensorFlow!',name='message')\n",
    "# with tf.Session() as ss :\n",
    "#     res = ss.run(msg)\n",
    "#     print(res)\n",
    "#-------------------------------------------------------------------\n",
    "# Ex 2 : MULTIPLYING USING TENSORFLOW : Completed\n",
    "#-------------------------------------------------------------------\n",
    "# x = tf.constant(2)\n",
    "# y = tf.constant(3)\n",
    "\n",
    "# z = tf.multiply(x,y)\n",
    "\n",
    "# with tf.Session() as ss :\n",
    "#     res = ss.run(z)\n",
    "#     print(res)\n",
    "#-------------------------------------------------------------------\n",
    "# Ex 3 : WORKING WITH GRAPHS : Completed\n",
    "#-------------------------------------------------------------------\n",
    "# graph = tf.get_default_graph()\n",
    "# rndom = tf.constant(1,name='tst')\n",
    "# print(graph.get_operations()) #Working\n",
    "# print(graph.get_operation_by_name('tst'))\n",
    "#-------------------------------------------------------------------\n",
    "#===================================================================\n",
    "# LESSON 2 :\n",
    "#===================================================================\n",
    "#-------------------------------------------------------------------\n",
    "# Ex 1 : UNFINISHED\n",
    "#-------------------------------------------------------------------\n",
    "input = tf.constant(3.6)\n",
    "weight = tf.Variable(2.0)\n",
    "graph = tf.get_default_graph()\n",
    "output = tf.multiply(input,weight, name = 'output')\n",
    "\n",
    "print(graph.get_operation_by_name('output'))"
   ]
  },
  {
   "cell_type": "code",
   "execution_count": null,
   "metadata": {
    "collapsed": true,
    "deletable": true,
    "editable": true
   },
   "outputs": [],
   "source": []
  },
  {
   "cell_type": "code",
   "execution_count": null,
   "metadata": {
    "collapsed": true,
    "deletable": true,
    "editable": true
   },
   "outputs": [],
   "source": []
  }
 ],
 "metadata": {
  "kernelspec": {
   "display_name": "Python 3",
   "language": "python",
   "name": "python3"
  },
  "language_info": {
   "codemirror_mode": {
    "name": "ipython",
    "version": 3
   },
   "file_extension": ".py",
   "mimetype": "text/x-python",
   "name": "python",
   "nbconvert_exporter": "python",
   "pygments_lexer": "ipython3",
   "version": "3.6.0"
  }
 },
 "nbformat": 4,
 "nbformat_minor": 2
}
